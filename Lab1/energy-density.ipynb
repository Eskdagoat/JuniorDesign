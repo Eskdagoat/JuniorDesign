{
 "cells": [
  {
   "cell_type": "code",
   "execution_count": 1,
   "id": "7ec5f70a-2318-4a71-a7dd-07133bf20592",
   "metadata": {},
   "outputs": [],
   "source": [
    "import pandas as pd\n"
   ]
  },
  {
   "cell_type": "code",
   "execution_count": 5,
   "id": "7a04b6a0-5032-42b2-9de4-95e13fa50276",
   "metadata": {},
   "outputs": [
    {
     "name": "stdout",
     "output_type": "stream",
     "text": [
      "  ASTM G173-03 Reference Spectra Derived from SMARTS v. 2.9.2      Unnamed: 1  \\\n",
      "0                                          Wvlgth nm           Etr W*m-2*nm-1   \n",
      "1                                                280                    0.082   \n",
      "2                                              280.5                    0.099   \n",
      "3                                                281                     0.15   \n",
      "4                                              281.5                    0.212   \n",
      "\n",
      "                Unnamed: 2                     Unnamed: 3  \n",
      "0  Global tilt  W*m-2*nm-1  Direct+circumsolar W*m-2*nm-1  \n",
      "1                      0.0                            0.0  \n",
      "2                      0.0                            0.0  \n",
      "3                      0.0                            0.0  \n",
      "4                      0.0                            0.0  \n"
     ]
    }
   ],
   "source": [
    "# Load the Excel file into a DataFrame\n",
    "df = pd.read_excel('global-tilt-spectra.xls')\n",
    "\n",
    "# Display the first 5 rows of the DataFrame\n",
    "print(df.head())\n"
   ]
  },
  {
   "cell_type": "code",
   "execution_count": null,
   "id": "51d8c012-4cf4-40dc-9e3a-a81ef0a03b7f",
   "metadata": {},
   "outputs": [],
   "source": []
  }
 ],
 "metadata": {
  "kernelspec": {
   "display_name": "Python 3 (ipykernel)",
   "language": "python",
   "name": "python3"
  },
  "language_info": {
   "codemirror_mode": {
    "name": "ipython",
    "version": 3
   },
   "file_extension": ".py",
   "mimetype": "text/x-python",
   "name": "python",
   "nbconvert_exporter": "python",
   "pygments_lexer": "ipython3",
   "version": "3.8.9"
  }
 },
 "nbformat": 4,
 "nbformat_minor": 5
}
